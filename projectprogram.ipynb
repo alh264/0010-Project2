{
 "cells": [
  {
   "cell_type": "code",
   "execution_count": 11,
   "metadata": {},
   "outputs": [
    {
     "name": "stdin",
     "output_type": "stream",
     "text": [
      "Enter your name please:  asdf\n",
      "Enter your age please:  17\n"
     ]
    },
    {
     "name": "stdout",
     "output_type": "stream",
     "text": [
      "Hello asdf , congratulations on having lived 17 fulfilling years of life!\n",
      "Sorry, you can't vote, smoke, or go to a casino just yet. Just a little while more.\n"
     ]
    }
   ],
   "source": [
    "name = input(\"Enter your name please: \")\n",
    "age = int(input(\"Enter your age please: \"))\n",
    "print(\"Hello\", name,\", congratulations on having lived\", age, \"fulfilling years of life!\")\n",
    "\n",
    "if age > 18 or age == 18:\n",
    "    print(\"You're legally allowed to vote now. If you haven't already, please register to do so! Every vote counts, no matter what other people tell you!\")\n",
    "    if age > 21 or age == 21:\n",
    "        print(\"You're also legally able to smoke or go to a casino, if you so please. Be responsible.\")\n",
    "if age < 18:\n",
    "    print(\"Sorry, you can't vote, smoke, or go to a casino just yet. Just a little while more.\")\n",
    "        \n"
   ]
  },
  {
   "cell_type": "code",
   "execution_count": null,
   "metadata": {},
   "outputs": [],
   "source": []
  }
 ],
 "metadata": {
  "kernelspec": {
   "display_name": "Python 3.7",
   "language": "python",
   "name": "python3"
  },
  "language_info": {
   "codemirror_mode": {
    "name": "ipython",
    "version": 3
   },
   "file_extension": ".py",
   "mimetype": "text/x-python",
   "name": "python",
   "nbconvert_exporter": "python",
   "pygments_lexer": "ipython3",
   "version": "3.7.0"
  }
 },
 "nbformat": 4,
 "nbformat_minor": 2
}
